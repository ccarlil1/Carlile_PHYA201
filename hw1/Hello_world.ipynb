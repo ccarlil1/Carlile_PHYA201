{
 "cells": [
  {
   "cell_type": "markdown",
   "id": "0a99369f",
   "metadata": {},
   "source": [
    "# Hello World Project\n",
    "\n",
    "### HW 1 Question 1"
   ]
  },
  {
   "cell_type": "code",
   "execution_count": 2,
   "id": "876f6261",
   "metadata": {},
   "outputs": [],
   "source": [
    "#code below prints the phrase \"Hello World!\""
   ]
  },
  {
   "cell_type": "code",
   "execution_count": 1,
   "id": "67c521a4",
   "metadata": {},
   "outputs": [
    {
     "name": "stdout",
     "output_type": "stream",
     "text": [
      "Hello World!\n"
     ]
    }
   ],
   "source": [
    "print('Hello World!')"
   ]
  }
 ],
 "metadata": {
  "kernelspec": {
   "display_name": "Python 3 (ipykernel)",
   "language": "python",
   "name": "python3"
  },
  "language_info": {
   "codemirror_mode": {
    "name": "ipython",
    "version": 3
   },
   "file_extension": ".py",
   "mimetype": "text/x-python",
   "name": "python",
   "nbconvert_exporter": "python",
   "pygments_lexer": "ipython3",
   "version": "3.10.6"
  }
 },
 "nbformat": 4,
 "nbformat_minor": 5
}
